{
  "nbformat": 4,
  "nbformat_minor": 0,
  "metadata": {
    "colab": {
      "name": "1_10000_face_recognition.ipynb",
      "provenance": [],
      "collapsed_sections": [],
      "toc_visible": true
    },
    "kernelspec": {
      "name": "python3",
      "display_name": "Python 3"
    }
  },
  "cells": [
    {
      "cell_type": "code",
      "metadata": {
        "id": "W_KYTu3m_VsW",
        "colab_type": "code",
        "colab": {}
      },
      "source": [
        "import numpy as np\n",
        "import pandas as pd\n",
        "from sklearn.utils.multiclass import unique_labels\n",
        "import urllib.request\n",
        "from progressbar import *\n",
        "import socket\n",
        "import os"
      ],
      "execution_count": 0,
      "outputs": []
    },
    {
      "cell_type": "markdown",
      "metadata": {
        "id": "D0GbqESj_wE6",
        "colab_type": "text"
      },
      "source": [
        "# Reading data\n",
        "\n",
        "[FaceScrub dataset link](http://vintage.winklerbros.net/facescrub.html \"FaceScrub\")   \n",
        "\n",
        "<img align=\"left\" width=\"580\" height=\"200\" src=\"http://vintage.winklerbros.net/Images/facescrub.jpg\">   "
      ]
    },
    {
      "cell_type": "code",
      "metadata": {
        "id": "dkdPAKR1-4YR",
        "colab_type": "code",
        "colab": {}
      },
      "source": [
        "f = open(base_dir + \"/faceScrub/facescrub_actors.txt\", 'r')\n",
        "actors = []\n",
        "for line in f:\n",
        "    actor_info = line.split('\\t')\n",
        "    actors.append([actor_info[0], actor_info[3]])\n",
        "actors = np.array(actors)\n",
        "f.close()\n",
        "\n",
        "f = open(base_dir + \"/faceScrub/facescrub_actresses.txt\", 'r')\n",
        "actresses = []\n",
        "for line in f:\n",
        "    actresses_info = line.split('\\t')\n",
        "    actresses.append([actresses_info[0], actresses_info[3]])\n",
        "actresses = np.array(actresses)\n",
        "f.close()"
      ],
      "execution_count": 0,
      "outputs": []
    },
    {
      "cell_type": "markdown",
      "metadata": {
        "id": "hMXbop5TAVj6",
        "colab_type": "text"
      },
      "source": [
        "# Example of data"
      ]
    },
    {
      "cell_type": "code",
      "metadata": {
        "id": "PNbG9OUO_S9e",
        "colab_type": "code",
        "outputId": "911695ee-b96f-4ba2-d7f9-599977f2a361",
        "colab": {
          "base_uri": "https://localhost:8080/",
          "height": 359
        }
      },
      "source": [
        "pd.DataFrame(data=actors[1:11], columns=actors[0])"
      ],
      "execution_count": 0,
      "outputs": [
        {
          "output_type": "execute_result",
          "data": {
            "text/html": [
              "<div>\n",
              "<style scoped>\n",
              "    .dataframe tbody tr th:only-of-type {\n",
              "        vertical-align: middle;\n",
              "    }\n",
              "\n",
              "    .dataframe tbody tr th {\n",
              "        vertical-align: top;\n",
              "    }\n",
              "\n",
              "    .dataframe thead th {\n",
              "        text-align: right;\n",
              "    }\n",
              "</style>\n",
              "<table border=\"1\" class=\"dataframe\">\n",
              "  <thead>\n",
              "    <tr style=\"text-align: right;\">\n",
              "      <th></th>\n",
              "      <th>name</th>\n",
              "      <th>url</th>\n",
              "    </tr>\n",
              "  </thead>\n",
              "  <tbody>\n",
              "    <tr>\n",
              "      <th>0</th>\n",
              "      <td>Aaron Eckhart</td>\n",
              "      <td>http://upload.wikimedia.org/wikipedia/commons/...</td>\n",
              "    </tr>\n",
              "    <tr>\n",
              "      <th>1</th>\n",
              "      <td>Aaron Eckhart</td>\n",
              "      <td>http://movies.dosthana.com/sites/default/files...</td>\n",
              "    </tr>\n",
              "    <tr>\n",
              "      <th>2</th>\n",
              "      <td>Aaron Eckhart</td>\n",
              "      <td>http://upload.wikimedia.org/wikipedia/commons/...</td>\n",
              "    </tr>\n",
              "    <tr>\n",
              "      <th>3</th>\n",
              "      <td>Aaron Eckhart</td>\n",
              "      <td>http://25.media.tumblr.com/nJ2vga5sae9o2ks4Flt...</td>\n",
              "    </tr>\n",
              "    <tr>\n",
              "      <th>4</th>\n",
              "      <td>Aaron Eckhart</td>\n",
              "      <td>http://upload.wikimedia.org/wikipedia/commons/...</td>\n",
              "    </tr>\n",
              "    <tr>\n",
              "      <th>5</th>\n",
              "      <td>Aaron Eckhart</td>\n",
              "      <td>http://media.zenfs.com/en_us/Movies/PhotoG/2nd...</td>\n",
              "    </tr>\n",
              "    <tr>\n",
              "      <th>6</th>\n",
              "      <td>Aaron Eckhart</td>\n",
              "      <td>http://img2.timeinc.net/people/i/2008/news/080...</td>\n",
              "    </tr>\n",
              "    <tr>\n",
              "      <th>7</th>\n",
              "      <td>Aaron Eckhart</td>\n",
              "      <td>http://latimesblogs.latimes.com/photos/uncateg...</td>\n",
              "    </tr>\n",
              "    <tr>\n",
              "      <th>8</th>\n",
              "      <td>Aaron Eckhart</td>\n",
              "      <td>http://collider.com/wp-content/uploads/Aaron-E...</td>\n",
              "    </tr>\n",
              "    <tr>\n",
              "      <th>9</th>\n",
              "      <td>Aaron Eckhart</td>\n",
              "      <td>http://movies.dosthana.com/sites/default/files...</td>\n",
              "    </tr>\n",
              "  </tbody>\n",
              "</table>\n",
              "</div>"
            ],
            "text/plain": [
              "            name                                                url\n",
              "0  Aaron Eckhart  http://upload.wikimedia.org/wikipedia/commons/...\n",
              "1  Aaron Eckhart  http://movies.dosthana.com/sites/default/files...\n",
              "2  Aaron Eckhart  http://upload.wikimedia.org/wikipedia/commons/...\n",
              "3  Aaron Eckhart  http://25.media.tumblr.com/nJ2vga5sae9o2ks4Flt...\n",
              "4  Aaron Eckhart  http://upload.wikimedia.org/wikipedia/commons/...\n",
              "5  Aaron Eckhart  http://media.zenfs.com/en_us/Movies/PhotoG/2nd...\n",
              "6  Aaron Eckhart  http://img2.timeinc.net/people/i/2008/news/080...\n",
              "7  Aaron Eckhart  http://latimesblogs.latimes.com/photos/uncateg...\n",
              "8  Aaron Eckhart  http://collider.com/wp-content/uploads/Aaron-E...\n",
              "9  Aaron Eckhart  http://movies.dosthana.com/sites/default/files..."
            ]
          },
          "metadata": {
            "tags": []
          },
          "execution_count": 5
        }
      ]
    },
    {
      "cell_type": "markdown",
      "metadata": {
        "id": "084mNLhuBOqx",
        "colab_type": "text"
      },
      "source": [
        "# Dataset info"
      ]
    },
    {
      "cell_type": "code",
      "metadata": {
        "id": "1HZ9nid5_hEZ",
        "colab_type": "code",
        "outputId": "235fe7d3-0ec2-4964-fbb8-1925751f093a",
        "colab": {
          "base_uri": "https://localhost:8080/",
          "height": 102
        }
      },
      "source": [
        "names_actors = unique_labels(actors[1:,0])\n",
        "names_actresses = unique_labels(actresses[1:,0])\n",
        "names_all = np.append(names_actors, names_actresses)\n",
        "names_all = np.array(names_all)\n",
        "\n",
        "np.savez(base_dir + \"/faceScrub/all_names\", names_all=names_all)\n",
        "\n",
        "print(\"Num images: \", len(actors) + len(actresses) - 2)\n",
        "print(\"Num images with actors: \", len(actors) - 1)\n",
        "print(\"Num images with actresses: \", len(actresses) - 1)\n",
        "print(\"Num actors:\", len(names_actors))\n",
        "print(\"Num actresses:\", len(names_actresses))"
      ],
      "execution_count": 0,
      "outputs": [
        {
          "output_type": "stream",
          "text": [
            "Num images:  106863\n",
            "Num images with actors:  55306\n",
            "Num images with actresses:  51557\n",
            "Num actors: 265\n",
            "Num actresses: 265\n"
          ],
          "name": "stdout"
        }
      ]
    },
    {
      "cell_type": "markdown",
      "metadata": {
        "id": "MFO5LlLKZgYl",
        "colab_type": "text"
      },
      "source": [
        "# Download images"
      ]
    },
    {
      "cell_type": "code",
      "metadata": {
        "id": "tPbpUHZha9vG",
        "colab_type": "code",
        "colab": {}
      },
      "source": [
        "base_dir = \"/content/drive/My Drive/Colab/Roonyx/Face recognition\"\n",
        "folder_for_actors = base_dir + \"/faceScrub/actors_images\"\n",
        "!mkdir '$folder_for_actors'\n",
        "folder_for_actresses = base_dir + \"/faceScrub/actresses_images\"\n",
        "!mkdir '$folder_for_actresses'"
      ],
      "execution_count": 0,
      "outputs": []
    },
    {
      "cell_type": "code",
      "metadata": {
        "id": "DYG9pN1cdqZU",
        "colab_type": "code",
        "colab": {}
      },
      "source": [
        "def download(index_start, index_stop, sex='male'):\n",
        "\n",
        "  def url_is_alive(url):\n",
        "    try:\n",
        "        urllib.request.urlopen(url)\n",
        "        return True\n",
        "    except Exception:\n",
        "        return False\n",
        "\n",
        "  if sex == \"male\":\n",
        "    peoples = actors\n",
        "  elif sex == \"female\":\n",
        "    peoples = actresses\n",
        "  else: \n",
        "    return None\n",
        "\n",
        "  pbar = ProgressBar(maxval=index_stop-index_start)\n",
        "  pbar.start()\n",
        "  socket.setdefaulttimeout(5)\n",
        "\n",
        "  # Download images\n",
        "  progress = 0\n",
        "  for image_id in range(index_start,index_stop,1):\n",
        "    href = peoples[image_id,1]\n",
        "    if(url_is_alive(href)):\n",
        "      try:\n",
        "        if sex == 'female':\n",
        "          urllib.request.urlretrieve(href, folder_for_actresses+\"/{}.jpg\".format(image_id + len(actors)-1))\n",
        "        else:  urllib.request.urlretrieve(href, folder_for_actors+\"/{}.jpg\".format(image_id))\n",
        "      except Exception: pass\n",
        "    pbar.update(progress)\n",
        "    progress+=1\n",
        "        \n",
        "  pbar.finish()"
      ],
      "execution_count": 0,
      "outputs": []
    },
    {
      "cell_type": "code",
      "metadata": {
        "id": "J_BtqMY36TQO",
        "colab_type": "code",
        "colab": {
          "base_uri": "https://localhost:8080/",
          "height": 34
        },
        "outputId": "2b326c7e-1da1-47f5-c3d1-d96ac0169cc2"
      },
      "source": [
        "download(1,10000,\"male\")"
      ],
      "execution_count": 5,
      "outputs": [
        {
          "output_type": "stream",
          "text": [
            "100% (9999 of 9999) |####################| Elapsed Time: 3:57:58 Time:  3:57:58\n"
          ],
          "name": "stderr"
        }
      ]
    },
    {
      "cell_type": "code",
      "metadata": {
        "id": "0p5uNSk69Gth",
        "colab_type": "code",
        "outputId": "0e572fce-d856-4e41-8a8d-7fcfe580fd0e",
        "colab": {
          "base_uri": "https://localhost:8080/",
          "height": 34
        }
      },
      "source": [
        "download(10000,20000,\"male\")"
      ],
      "execution_count": 0,
      "outputs": [
        {
          "output_type": "stream",
          "text": [
            "100% (10000 of 10000) |##################| Elapsed Time: 1:42:45 Time:  1:42:45\n"
          ],
          "name": "stderr"
        }
      ]
    },
    {
      "cell_type": "code",
      "metadata": {
        "colab_type": "code",
        "outputId": "a1cc0fc7-7d1e-42c6-b7e3-4f2ea5baedcc",
        "id": "p9dGlNzEdIuo",
        "colab": {
          "base_uri": "https://localhost:8080/",
          "height": 34
        }
      },
      "source": [
        "download(20000,30000,\"male\")"
      ],
      "execution_count": 0,
      "outputs": [
        {
          "output_type": "stream",
          "text": [
            "100% (10000 of 10000) |##################| Elapsed Time: 1:47:03 Time:  1:47:03\n"
          ],
          "name": "stderr"
        }
      ]
    },
    {
      "cell_type": "code",
      "metadata": {
        "colab_type": "code",
        "outputId": "5023ddb0-8ef9-4d5e-d1ce-d977ccce8f73",
        "id": "hpw4DoDKdZT-",
        "colab": {
          "base_uri": "https://localhost:8080/",
          "height": 34
        }
      },
      "source": [
        "download(30000,40000,\"male\")"
      ],
      "execution_count": 0,
      "outputs": [
        {
          "output_type": "stream",
          "text": [
            "100% (10000 of 10000) |##################| Elapsed Time: 1:43:21 Time:  1:43:21\n"
          ],
          "name": "stderr"
        }
      ]
    },
    {
      "cell_type": "code",
      "metadata": {
        "id": "CxPbko4P9Nhn",
        "colab_type": "code",
        "outputId": "9640c31b-f78d-41aa-ba2c-f5ad059fcd6c",
        "colab": {
          "base_uri": "https://localhost:8080/",
          "height": 34
        }
      },
      "source": [
        "download(40000,55306,\"male\")"
      ],
      "execution_count": 0,
      "outputs": [
        {
          "output_type": "stream",
          "text": [
            "100% (15306 of 15306) |##################| Elapsed Time: 4:41:44 Time:  4:41:44\n"
          ],
          "name": "stderr"
        }
      ]
    },
    {
      "cell_type": "code",
      "metadata": {
        "colab_type": "code",
        "outputId": "7e8d7455-26e6-44c6-8e23-89c01c9df9f2",
        "id": "-3y26NDxGE2x",
        "colab": {
          "base_uri": "https://localhost:8080/",
          "height": 34
        }
      },
      "source": [
        "download(1,10000,\"female\")"
      ],
      "execution_count": 0,
      "outputs": [
        {
          "output_type": "stream",
          "text": [
            "100% (9999 of 9999) |####################| Elapsed Time: 2:13:33 Time:  2:13:33\n"
          ],
          "name": "stderr"
        }
      ]
    },
    {
      "cell_type": "code",
      "metadata": {
        "colab_type": "code",
        "outputId": "735687c8-b4a5-4ed3-b1e7-be843d2d099a",
        "id": "w964OrBnDXp3",
        "colab": {
          "base_uri": "https://localhost:8080/",
          "height": 34
        }
      },
      "source": [
        "download(10000,20000,\"female\")"
      ],
      "execution_count": 0,
      "outputs": [
        {
          "output_type": "stream",
          "text": [
            "100% (10000 of 10000) |##################| Elapsed Time: 1:58:13 Time:  1:58:13\n"
          ],
          "name": "stderr"
        }
      ]
    },
    {
      "cell_type": "code",
      "metadata": {
        "colab_type": "code",
        "outputId": "8928449c-9b20-4d74-ff4d-bff134520470",
        "id": "K0Qtc6THBsLC",
        "colab": {
          "base_uri": "https://localhost:8080/",
          "height": 34
        }
      },
      "source": [
        "download(20000,30000,\"female\")"
      ],
      "execution_count": 0,
      "outputs": [
        {
          "output_type": "stream",
          "text": [
            "100% (10000 of 10000) |##################| Elapsed Time: 1:38:27 Time:  1:38:27\n"
          ],
          "name": "stderr"
        }
      ]
    },
    {
      "cell_type": "code",
      "metadata": {
        "id": "VgqFEKJr9etB",
        "colab_type": "code",
        "outputId": "1d550def-d4cf-4179-c634-21e14ff4b024",
        "colab": {
          "base_uri": "https://localhost:8080/",
          "height": 34
        }
      },
      "source": [
        "download(30000,40000,\"female\")"
      ],
      "execution_count": 0,
      "outputs": [
        {
          "output_type": "stream",
          "text": [
            " 53% (5393 of 10000) |##########         | Elapsed Time: 2:05:20 ETA:   1:54:23"
          ],
          "name": "stderr"
        }
      ]
    },
    {
      "cell_type": "code",
      "metadata": {
        "id": "9txZU__X9hh3",
        "colab_type": "code",
        "outputId": "205aa62d-320b-4b7b-c8b1-9a68fe29023e",
        "colab": {
          "base_uri": "https://localhost:8080/",
          "height": 34
        }
      },
      "source": [
        "download(40000,51557,\"female\")"
      ],
      "execution_count": 0,
      "outputs": [
        {
          "output_type": "stream",
          "text": [
            " 84% (9716 of 11557) |###############    | Elapsed Time: 1:58:05 ETA:   0:31:06"
          ],
          "name": "stderr"
        }
      ]
    },
    {
      "cell_type": "markdown",
      "metadata": {
        "id": "vx1tGdxJbyos",
        "colab_type": "text"
      },
      "source": [
        "# Save metadata"
      ]
    },
    {
      "cell_type": "code",
      "metadata": {
        "id": "Mfc2XTg4G7CI",
        "colab_type": "code",
        "colab": {}
      },
      "source": [
        "folder_for_metadata = base_dir + \"/faceScrub/metadata\"\n",
        "!mkdir '$folder_for_metadata'"
      ],
      "execution_count": 0,
      "outputs": []
    },
    {
      "cell_type": "code",
      "metadata": {
        "id": "UChHNvszIyfE",
        "colab_type": "code",
        "colab": {}
      },
      "source": [
        "actors_files_names = os.listdir(folder_for_actors)\n",
        "actresses_files_names = os.listdir(folder_for_actresses)\n",
        "\n",
        "for i in range(0,len(actors_files_names),1):\n",
        "  index_dot = actors_files_names[i].find('.')\n",
        "  actors_files_names[i] = int(actors_files_names[i][:index_dot])\n",
        "\n",
        "for i in range(0,len(actresses_files_names),1):\n",
        "  index_dot = actresses_files_names[i].find('.')\n",
        "  actresses_files_names[i] = int(actresses_files_names[i][:index_dot])\n",
        "\n",
        "print(actors_files_names)\n",
        "print(actresses_files_names)"
      ],
      "execution_count": 0,
      "outputs": []
    },
    {
      "cell_type": "code",
      "metadata": {
        "id": "I8NjNIKidJSq",
        "colab_type": "code",
        "colab": {
          "base_uri": "https://localhost:8080/",
          "height": 34
        },
        "outputId": "b9cd546e-896e-4b46-9b6e-f23696fa1388"
      },
      "source": [
        "count1 = len(os.listdir(folder_for_actors))\n",
        "count2 = len(os.listdir(folder_for_actresses))\n",
        "print(\"Num downloaded images:\", count1+count2)"
      ],
      "execution_count": 74,
      "outputs": [
        {
          "output_type": "stream",
          "text": [
            "Num downloaded images: 53865\n"
          ],
          "name": "stdout"
        }
      ]
    }
  ]
}