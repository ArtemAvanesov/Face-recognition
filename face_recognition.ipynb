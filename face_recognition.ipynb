{
  "nbformat": 4,
  "nbformat_minor": 0,
  "metadata": {
    "colab": {
      "name": "face_recognition.ipynb",
      "provenance": [],
      "collapsed_sections": [],
      "mount_file_id": "1n92wFDrxW8zpRBOGKSlmAy_J4TcxZtPG",
      "authorship_tag": "ABX9TyNHLHWpW47xwWctgzZayaTN",
      "include_colab_link": true
    },
    "kernelspec": {
      "name": "python3",
      "display_name": "Python 3"
    }
  },
  "cells": [
    {
      "cell_type": "markdown",
      "metadata": {
        "id": "view-in-github",
        "colab_type": "text"
      },
      "source": [
        "<a href=\"https://colab.research.google.com/github/ArtemAvanesov/Face-recognition/blob/master/face_recognition.ipynb\" target=\"_parent\"><img src=\"https://colab.research.google.com/assets/colab-badge.svg\" alt=\"Open In Colab\"/></a>"
      ]
    },
    {
      "cell_type": "code",
      "metadata": {
        "id": "W_KYTu3m_VsW",
        "colab_type": "code",
        "colab": {}
      },
      "source": [
        "import numpy as np\n",
        "import pandas as pd\n",
        "from sklearn.utils.multiclass import unique_labels"
      ],
      "execution_count": 0,
      "outputs": []
    },
    {
      "cell_type": "markdown",
      "metadata": {
        "id": "D0GbqESj_wE6",
        "colab_type": "text"
      },
      "source": [
        "# Чтение данных \n",
        "\n",
        "[Ссылка на датасет FaceScrub](http://vintage.winklerbros.net/facescrub.html \"FaceScrub\")   \n",
        "\n",
        "<img align=\"left\" width=\"580\" height=\"200\" src=\"http://vintage.winklerbros.net/Images/facescrub.jpg\">   "
      ]
    },
    {
      "cell_type": "code",
      "metadata": {
        "id": "dkdPAKR1-4YR",
        "colab_type": "code",
        "colab": {}
      },
      "source": [
        "f = open(\"/content/drive/My Drive/Colab/Roonyx/Face recognition/faceScrub/facescrub_actors.txt\", 'r')\n",
        "actors = []\n",
        "for line in f:\n",
        "    actor_info = line.split('\\t')\n",
        "    actors.append([actor_info[0], actor_info[3]])\n",
        "actors = np.array(actors)\n",
        "f.close()\n",
        "\n",
        "f = open(\"/content/drive/My Drive/Colab/Roonyx/Face recognition/faceScrub/facescrub_actresses.txt\", 'r')\n",
        "actresses = []\n",
        "for line in f:\n",
        "    actresses_info = line.split('\\t')\n",
        "    actresses.append([actresses_info[0], actresses_info[3]])\n",
        "actresses = np.array(actresses)\n",
        "f.close()"
      ],
      "execution_count": 0,
      "outputs": []
    },
    {
      "cell_type": "markdown",
      "metadata": {
        "id": "hMXbop5TAVj6",
        "colab_type": "text"
      },
      "source": [
        "# Пример данных"
      ]
    },
    {
      "cell_type": "code",
      "metadata": {
        "id": "PNbG9OUO_S9e",
        "colab_type": "code",
        "colab": {
          "base_uri": "https://localhost:8080/",
          "height": 359
        },
        "outputId": "29486107-a79e-44fd-8be0-26aba88a0671"
      },
      "source": [
        "pd.DataFrame(data=actors[1:11], columns=actors[0])"
      ],
      "execution_count": 14,
      "outputs": [
        {
          "output_type": "execute_result",
          "data": {
            "text/html": [
              "<div>\n",
              "<style scoped>\n",
              "    .dataframe tbody tr th:only-of-type {\n",
              "        vertical-align: middle;\n",
              "    }\n",
              "\n",
              "    .dataframe tbody tr th {\n",
              "        vertical-align: top;\n",
              "    }\n",
              "\n",
              "    .dataframe thead th {\n",
              "        text-align: right;\n",
              "    }\n",
              "</style>\n",
              "<table border=\"1\" class=\"dataframe\">\n",
              "  <thead>\n",
              "    <tr style=\"text-align: right;\">\n",
              "      <th></th>\n",
              "      <th>name</th>\n",
              "      <th>url</th>\n",
              "    </tr>\n",
              "  </thead>\n",
              "  <tbody>\n",
              "    <tr>\n",
              "      <th>0</th>\n",
              "      <td>Aaron Eckhart</td>\n",
              "      <td>http://upload.wikimedia.org/wikipedia/commons/...</td>\n",
              "    </tr>\n",
              "    <tr>\n",
              "      <th>1</th>\n",
              "      <td>Aaron Eckhart</td>\n",
              "      <td>http://movies.dosthana.com/sites/default/files...</td>\n",
              "    </tr>\n",
              "    <tr>\n",
              "      <th>2</th>\n",
              "      <td>Aaron Eckhart</td>\n",
              "      <td>http://upload.wikimedia.org/wikipedia/commons/...</td>\n",
              "    </tr>\n",
              "    <tr>\n",
              "      <th>3</th>\n",
              "      <td>Aaron Eckhart</td>\n",
              "      <td>http://25.media.tumblr.com/nJ2vga5sae9o2ks4Flt...</td>\n",
              "    </tr>\n",
              "    <tr>\n",
              "      <th>4</th>\n",
              "      <td>Aaron Eckhart</td>\n",
              "      <td>http://upload.wikimedia.org/wikipedia/commons/...</td>\n",
              "    </tr>\n",
              "    <tr>\n",
              "      <th>5</th>\n",
              "      <td>Aaron Eckhart</td>\n",
              "      <td>http://media.zenfs.com/en_us/Movies/PhotoG/2nd...</td>\n",
              "    </tr>\n",
              "    <tr>\n",
              "      <th>6</th>\n",
              "      <td>Aaron Eckhart</td>\n",
              "      <td>http://img2.timeinc.net/people/i/2008/news/080...</td>\n",
              "    </tr>\n",
              "    <tr>\n",
              "      <th>7</th>\n",
              "      <td>Aaron Eckhart</td>\n",
              "      <td>http://latimesblogs.latimes.com/photos/uncateg...</td>\n",
              "    </tr>\n",
              "    <tr>\n",
              "      <th>8</th>\n",
              "      <td>Aaron Eckhart</td>\n",
              "      <td>http://collider.com/wp-content/uploads/Aaron-E...</td>\n",
              "    </tr>\n",
              "    <tr>\n",
              "      <th>9</th>\n",
              "      <td>Aaron Eckhart</td>\n",
              "      <td>http://movies.dosthana.com/sites/default/files...</td>\n",
              "    </tr>\n",
              "  </tbody>\n",
              "</table>\n",
              "</div>"
            ],
            "text/plain": [
              "            name                                                url\n",
              "0  Aaron Eckhart  http://upload.wikimedia.org/wikipedia/commons/...\n",
              "1  Aaron Eckhart  http://movies.dosthana.com/sites/default/files...\n",
              "2  Aaron Eckhart  http://upload.wikimedia.org/wikipedia/commons/...\n",
              "3  Aaron Eckhart  http://25.media.tumblr.com/nJ2vga5sae9o2ks4Flt...\n",
              "4  Aaron Eckhart  http://upload.wikimedia.org/wikipedia/commons/...\n",
              "5  Aaron Eckhart  http://media.zenfs.com/en_us/Movies/PhotoG/2nd...\n",
              "6  Aaron Eckhart  http://img2.timeinc.net/people/i/2008/news/080...\n",
              "7  Aaron Eckhart  http://latimesblogs.latimes.com/photos/uncateg...\n",
              "8  Aaron Eckhart  http://collider.com/wp-content/uploads/Aaron-E...\n",
              "9  Aaron Eckhart  http://movies.dosthana.com/sites/default/files..."
            ]
          },
          "metadata": {
            "tags": []
          },
          "execution_count": 14
        }
      ]
    },
    {
      "cell_type": "markdown",
      "metadata": {
        "id": "084mNLhuBOqx",
        "colab_type": "text"
      },
      "source": [
        "# Общая информация о наборе данных"
      ]
    },
    {
      "cell_type": "code",
      "metadata": {
        "id": "1HZ9nid5_hEZ",
        "colab_type": "code",
        "colab": {
          "base_uri": "https://localhost:8080/",
          "height": 102
        },
        "outputId": "81f939b5-9a04-4c71-e1fb-aba6c809fc14"
      },
      "source": [
        "names_actors = unique_labels(actors[1:,0])\n",
        "names_actresses = unique_labels(actresses[1:,0])\n",
        "\n",
        "print(\"Всего фотографий: \", len(actors) + len(actresses) - 2)\n",
        "print(\"Всего фотографий с актерами: \", len(actors) - 1)\n",
        "print(\"Всего фотографий с актрисами: \", len(actresses) - 1)\n",
        "print(\"Всего актеров:\", len(names_actors))\n",
        "print(\"Всего актрис:\", len(names_actresses))"
      ],
      "execution_count": 6,
      "outputs": [
        {
          "output_type": "stream",
          "text": [
            "Всего фотографий:  106863\n",
            "Всего фотографий с актерами:  55306\n",
            "Всего фотографий с актрисами:  51557\n",
            "Всего актеров: 265\n",
            "Всего актрис: 265\n"
          ],
          "name": "stdout"
        }
      ]
    }
  ]
}