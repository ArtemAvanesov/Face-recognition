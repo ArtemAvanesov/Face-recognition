{
  "nbformat": 4,
  "nbformat_minor": 0,
  "metadata": {
    "colab": {
      "name": "face_recognition_resnet.ipynb",
      "provenance": [],
      "collapsed_sections": [
        "f7qr_gKbqtYm",
        "j_krkocVq1-o",
        "HRdhMzlygGv0",
        "n1OeOmi6Is_y",
        "27vrx2rruHwE"
      ]
    },
    "kernelspec": {
      "name": "python3",
      "display_name": "Python 3"
    }
  },
  "cells": [
    {
      "cell_type": "code",
      "metadata": {
        "id": "6r0KSVOnqbi-",
        "colab_type": "code",
        "colab": {}
      },
      "source": [
        "import numpy as np\n",
        "from keras import layers\n",
        "from keras.layers import Dropout, Input, concatenate\n",
        "from keras import models\n",
        "from keras.models import Model, load_model\n",
        "import tensorflow as tf\n",
        "from keras import backend as K\n",
        "from collections import defaultdict\n",
        "from skimage import io\n",
        "from keras.applications import ResNet50\n",
        "from keras import models\n",
        "from keras.models import Model, Sequential\n",
        "from keras import layers\n",
        "import matplotlib.pyplot as plt\n",
        "from sklearn.utils.multiclass import unique_labels\n",
        "from sklearn.manifold import TSNE"
      ],
      "execution_count": 0,
      "outputs": []
    },
    {
      "cell_type": "markdown",
      "metadata": {
        "id": "f7qr_gKbqtYm",
        "colab_type": "text"
      },
      "source": [
        "# Loss function"
      ]
    },
    {
      "cell_type": "code",
      "metadata": {
        "id": "w5oxbUNBqsQG",
        "colab_type": "code",
        "colab": {}
      },
      "source": [
        "def triplet_loss(y_true, y_pred):\n",
        "  del y_true\n",
        "\n",
        "  total_lenght = y_pred.shape.as_list()[-1]   \n",
        "   \n",
        "  anchor = y_pred[:,0:int(total_lenght*1/3)]\n",
        "  positive = y_pred[:,int(total_lenght*1/3):int(total_lenght*2/3)]\n",
        "  negative = y_pred[:,int(total_lenght*2/3):int(total_lenght*3/3)]\n",
        "\n",
        "  dist = \"qeuclidean\"\n",
        "  margin = \"maxplus\"\n",
        "\n",
        "  positive_distance = K.square(anchor - positive)\n",
        "  negative_distance = K.square(anchor - negative)\n",
        "  if dist == \"sqeuclidean\":\n",
        "    positive_distance = K.mean(positive_distance, axis=-1, keepdims=True)\n",
        "    negative_distance = K.mean(negative_distance, axis=-1, keepdims=True)\n",
        "  elif dist == \"qeuclidean\":\n",
        "    positive_distance = tf.math.sqrt(K.sum(positive_distance, axis=-1, keepdims=True))\n",
        "    negative_distance = tf.math.sqrt(K.sum(negative_distance, axis=-1, keepdims=True))\n",
        "  loss = positive_distance - negative_distance\n",
        "  if margin == \"maxplus\":\n",
        "    loss = K.maximum(0.0, 1 + loss)\n",
        "  elif margin == 'softplus':\n",
        "    loss = K.log(1 + K.exp(loss))\n",
        "\n",
        "  return K.mean(loss)"
      ],
      "execution_count": 0,
      "outputs": []
    },
    {
      "cell_type": "markdown",
      "metadata": {
        "id": "j_krkocVq1-o",
        "colab_type": "text"
      },
      "source": [
        "# Accuracy function"
      ]
    },
    {
      "cell_type": "code",
      "metadata": {
        "id": "PB6Bt3e8qyU0",
        "colab_type": "code",
        "colab": {}
      },
      "source": [
        "def accuracy(y_true, y_pred):\n",
        "  del y_true\n",
        "\n",
        "  total_lenght = y_pred.shape.as_list()[-1]  \n",
        "\n",
        "  anchor = y_pred[:,0:int(total_lenght*1/3)]\n",
        "  positive = y_pred[:,int(total_lenght*1/3):int(total_lenght*2/3)]\n",
        "  negative = y_pred[:,int(total_lenght*2/3):int(total_lenght*3/3)]\n",
        "  \n",
        "  positive_distance = K.square(anchor - positive)\n",
        "  negative_distance = K.square(anchor - negative)\n",
        "    \n",
        "  return K.mean(positive_distance < negative_distance)"
      ],
      "execution_count": 0,
      "outputs": []
    },
    {
      "cell_type": "markdown",
      "metadata": {
        "id": "ONM5LhgxgDYj",
        "colab_type": "text"
      },
      "source": [
        "# Embedding model"
      ]
    },
    {
      "cell_type": "code",
      "metadata": {
        "id": "4X5aVmgtLcY-",
        "colab_type": "code",
        "colab": {}
      },
      "source": [
        "def embedding_model_function(input_shape):\n",
        "  \n",
        "  embedding_model = Sequential()\n",
        "  embedding_model.add(ResNet50(include_top = False, pooling = 'avg', weights = \"imagenet\"))\n",
        "  embedding_model.add(layers.Dense(128, activation = \"sigmoid\"))\n",
        "\n",
        "  embedding_model.layers[0].trainable = False\n",
        "\n",
        "  return embedding_model"
      ],
      "execution_count": 0,
      "outputs": []
    },
    {
      "cell_type": "code",
      "metadata": {
        "id": "fdJ7hBGH0U91",
        "colab_type": "code",
        "colab": {
          "base_uri": "https://localhost:8080/",
          "height": 221
        },
        "outputId": "c704f27b-f5a5-40ac-90a7-bb3ce811f3b6"
      },
      "source": [
        "embedding_model = embedding_model_function((224, 224, 3))\n",
        "embedding_model.summary()"
      ],
      "execution_count": 53,
      "outputs": [
        {
          "output_type": "stream",
          "text": [
            "Model: \"sequential_7\"\n",
            "_________________________________________________________________\n",
            "Layer (type)                 Output Shape              Param #   \n",
            "=================================================================\n",
            "resnet50 (Model)             (None, 2048)              23587712  \n",
            "_________________________________________________________________\n",
            "dense_10 (Dense)             (None, 128)               262272    \n",
            "=================================================================\n",
            "Total params: 23,849,984\n",
            "Trainable params: 262,272\n",
            "Non-trainable params: 23,587,712\n",
            "_________________________________________________________________\n"
          ],
          "name": "stdout"
        }
      ]
    },
    {
      "cell_type": "markdown",
      "metadata": {
        "id": "HRdhMzlygGv0",
        "colab_type": "text"
      },
      "source": [
        "# Triplet model"
      ]
    },
    {
      "cell_type": "code",
      "metadata": {
        "id": "HZdPUa1MfQvf",
        "colab_type": "code",
        "colab": {}
      },
      "source": [
        "def triplet_model_function(embedding_model_function, input_shape):\n",
        "  anchor_input = Input(input_shape, name='anchor_input')\n",
        "  positive_input = Input(input_shape, name='positive_input')\n",
        "  negative_input = Input(input_shape, name='negative_input')\n",
        "    \n",
        "  anchor_embedding = embedding_model(anchor_input)\n",
        "  positive_embedding = embedding_model(positive_input)\n",
        "  negative_embedding = embedding_model(negative_input)\n",
        "\n",
        "  inputs = [anchor_input, positive_input, negative_input]\n",
        "  merged_vector = concatenate([anchor_embedding, positive_embedding, negative_embedding], axis=-1, name='merged_layer')\n",
        "\n",
        "  triplet_model = Model(inputs=inputs, outputs=merged_vector)\n",
        "  triplet_model.add_metric(K.mean(accuracy(merged_vector, merged_vector)), \"my_acc\")\n",
        "\n",
        "  return triplet_model"
      ],
      "execution_count": 0,
      "outputs": []
    },
    {
      "cell_type": "markdown",
      "metadata": {
        "id": "n1OeOmi6Is_y",
        "colab_type": "text"
      },
      "source": [
        "# Functions for triplets generation (faseScrub)"
      ]
    },
    {
      "cell_type": "code",
      "metadata": {
        "id": "HIT9dyjUb5qy",
        "colab_type": "code",
        "colab": {}
      },
      "source": [
        "def get_triples_indices(grouped, n):\n",
        "    num_classes = len(grouped)\n",
        "    list_labels = list(grouped.keys())\n",
        "    list_labels_copy = list_labels.copy()\n",
        "    for label in list_labels_copy:\n",
        "      if len(grouped[label]) < 2:\n",
        "        list_labels.remove(label)\n",
        "    pairs = []\n",
        "    for i in range(0,n,1):\n",
        "        pairs.append(np.random.choice(list_labels, size=2, replace = False))\n",
        "    pairs = np.array(pairs)\n",
        "    positive_labels = pairs[:,0]\n",
        "    negative_labels = pairs[:,1]\n",
        "    triples_indices = []\n",
        "    for positive_label, negative_label in zip(positive_labels, negative_labels):\n",
        "        negative = np.random.choice(grouped[negative_label])\n",
        "        positive_group = grouped[positive_label]\n",
        "        m = len(positive_group)\n",
        "        anchor_j = np.random.randint(0, m)\n",
        "        anchor = positive_group[anchor_j]\n",
        "        positive_j = (np.random.randint(1, m) + anchor_j) % m\n",
        "        positive = positive_group[positive_j]\n",
        "        triples_indices.append([anchor, positive, negative])\n",
        "    return np.asarray(triples_indices)\n",
        "\n",
        "def get_triples_data(x, grouped, n, image_path):\n",
        "    indices = get_triples_indices(grouped, n)\n",
        "    x1,x2,x3 = [],[],[]\n",
        "    for i in indices[:,0]:\n",
        "      x1.append(io.imread(image_path + \"/\" + str(x[i]) + \".jpg\"))\n",
        "    for i in indices[:,1]:\n",
        "      x2.append(io.imread(image_path + \"/\" + str(x[i]) + \".jpg\"))\n",
        "    for i in indices[:,2]:\n",
        "      x3.append(io.imread(image_path + \"/\" + str(x[i]) + \".jpg\"))\n",
        "    x1 = np.array(x1)\n",
        "    x2 = np.array(x2)\n",
        "    x3 = np.array(x3)\n",
        "    return x1, x2, x3\n",
        "    \n",
        "def triplet_generator(x, y, batch_size, image_path):\n",
        "    grouped = defaultdict(list)\n",
        "    for i, label in enumerate(y):\n",
        "        grouped[label].append(i)\n",
        "       \n",
        "    while True:\n",
        "        x_anchor, x_positive, x_negative = get_triples_data(x, grouped, batch_size, image_path)\n",
        "        yield ({'anchor_input': x_anchor,\n",
        "               'positive_input': x_positive,\n",
        "               'negative_input': x_negative},\n",
        "               np.zeros(len(x_anchor)))"
      ],
      "execution_count": 0,
      "outputs": []
    },
    {
      "cell_type": "markdown",
      "metadata": {
        "id": "27vrx2rruHwE",
        "colab_type": "text"
      },
      "source": [
        "# Reading metadata"
      ]
    },
    {
      "cell_type": "code",
      "metadata": {
        "id": "5hT17Al5_8wJ",
        "colab_type": "code",
        "colab": {}
      },
      "source": [
        "!cp -a \"/content/drive/My Drive/Colab/Roonyx/Face recognition/faceScrub/croped_images_224\" \"/content/croped_images_224\"\n",
        "!cp -a \"/content/drive/My Drive/Colab/Roonyx/Face recognition/faceScrub/metadata/metadata_small.npz\" \"/content/metadata_small.npz\""
      ],
      "execution_count": 0,
      "outputs": []
    },
    {
      "cell_type": "code",
      "metadata": {
        "id": "m4jDryv0sFu0",
        "colab_type": "code",
        "colab": {}
      },
      "source": [
        "readed = np.load('/content/metadata_small.npz')\n",
        "metadata = readed[\"metadata_small\"]\n",
        "x = metadata[:,0]\n",
        "x = np.array(x, dtype='int64')\n",
        "y = metadata[:,1]\n",
        "y = np.array(y, dtype='int64')"
      ],
      "execution_count": 0,
      "outputs": []
    },
    {
      "cell_type": "markdown",
      "metadata": {
        "id": "vk9MEbozXQYd",
        "colab_type": "text"
      },
      "source": [
        "# Model training"
      ]
    },
    {
      "cell_type": "code",
      "metadata": {
        "id": "fxH5fQCYu3Bj",
        "colab_type": "code",
        "outputId": "8617ad3e-31d3-4046-8464-98fc235958ff",
        "colab": {
          "base_uri": "https://localhost:8080/",
          "height": 697
        }
      },
      "source": [
        "embedding_model = embedding_model_function(input_shape = (224, 224, 3))\n",
        "triplet_model = triplet_model_function(embedding_model, input_shape = (224, 224, 3))\n",
        "triplet_model.compile(loss=triplet_loss, optimizer='adam')\n",
        "\n",
        "batch_size = 10\n",
        "image_path = \"/content/croped_images_224\"\n",
        "\n",
        "history = triplet_model.fit_generator(triplet_generator(x, y, batch_size, image_path),\n",
        "                                      steps_per_epoch=10,\n",
        "                                      epochs=20,\n",
        "                                      verbose=1)"
      ],
      "execution_count": 54,
      "outputs": [
        {
          "output_type": "stream",
          "text": [
            "Epoch 1/20\n",
            "10/10 [==============================] - 56s 6s/step - loss: 0.7446 - my_acc: 0.5486\n",
            "Epoch 2/20\n",
            "10/10 [==============================] - 52s 5s/step - loss: 0.4972 - my_acc: 0.5917\n",
            "Epoch 3/20\n",
            "10/10 [==============================] - 55s 6s/step - loss: 0.3651 - my_acc: 0.6175\n",
            "Epoch 4/20\n",
            "10/10 [==============================] - 52s 5s/step - loss: 0.3577 - my_acc: 0.6249\n",
            "Epoch 5/20\n",
            "10/10 [==============================] - 52s 5s/step - loss: 0.2029 - my_acc: 0.6576\n",
            "Epoch 6/20\n",
            "10/10 [==============================] - 53s 5s/step - loss: 0.2336 - my_acc: 0.6436\n",
            "Epoch 7/20\n",
            "10/10 [==============================] - 53s 5s/step - loss: 0.2252 - my_acc: 0.6536\n",
            "Epoch 8/20\n",
            "10/10 [==============================] - 53s 5s/step - loss: 0.1888 - my_acc: 0.6703\n",
            "Epoch 9/20\n",
            "10/10 [==============================] - 53s 5s/step - loss: 0.1947 - my_acc: 0.6588\n",
            "Epoch 10/20\n",
            "10/10 [==============================] - 53s 5s/step - loss: 0.1617 - my_acc: 0.6746\n",
            "Epoch 11/20\n",
            "10/10 [==============================] - 53s 5s/step - loss: 0.0964 - my_acc: 0.6828\n",
            "Epoch 12/20\n",
            "10/10 [==============================] - 53s 5s/step - loss: 0.1233 - my_acc: 0.6816\n",
            "Epoch 13/20\n",
            "10/10 [==============================] - 53s 5s/step - loss: 0.1511 - my_acc: 0.6726\n",
            "Epoch 14/20\n",
            "10/10 [==============================] - 53s 5s/step - loss: 0.1282 - my_acc: 0.6834\n",
            "Epoch 15/20\n",
            "10/10 [==============================] - 55s 6s/step - loss: 0.1245 - my_acc: 0.6891\n",
            "Epoch 16/20\n",
            "10/10 [==============================] - 52s 5s/step - loss: 0.1948 - my_acc: 0.6578\n",
            "Epoch 17/20\n",
            "10/10 [==============================] - 52s 5s/step - loss: 0.1333 - my_acc: 0.6801\n",
            "Epoch 18/20\n",
            "10/10 [==============================] - 52s 5s/step - loss: 0.0885 - my_acc: 0.6930\n",
            "Epoch 19/20\n",
            "10/10 [==============================] - 52s 5s/step - loss: 0.1283 - my_acc: 0.6887\n",
            "Epoch 20/20\n",
            "10/10 [==============================] - 52s 5s/step - loss: 0.1073 - my_acc: 0.6859\n"
          ],
          "name": "stdout"
        }
      ]
    },
    {
      "cell_type": "markdown",
      "metadata": {
        "id": "psvxi97oXYtW",
        "colab_type": "text"
      },
      "source": [
        "# Model loss and accuracy"
      ]
    },
    {
      "cell_type": "code",
      "metadata": {
        "id": "FWKlXUMQQuj-",
        "colab_type": "code",
        "outputId": "5e54ab59-72ec-4ed0-e9a6-211997ef33de",
        "colab": {
          "base_uri": "https://localhost:8080/",
          "height": 258
        }
      },
      "source": [
        "plt.figure(figsize=(10,3))\n",
        "\n",
        "plt.subplot(1, 2, 1)\n",
        "plt.plot(history.history['loss'])\n",
        "plt.title('Model loss')\n",
        "plt.ylabel('Loss')\n",
        "plt.xlabel('Epoch')\n",
        "plt.legend(['Train'], loc='upper left')\n",
        "\n",
        "plt.subplot(1, 2, 2)\n",
        "plt.plot(history.history['my_acc'])\n",
        "plt.title('Model accuracy')\n",
        "plt.ylabel('Accuracy')\n",
        "plt.xlabel('Epoch')\n",
        "plt.legend(['Train'], loc='upper left')"
      ],
      "execution_count": 57,
      "outputs": [
        {
          "output_type": "execute_result",
          "data": {
            "text/plain": [
              "<matplotlib.legend.Legend at 0x7f0b895b0978>"
            ]
          },
          "metadata": {
            "tags": []
          },
          "execution_count": 57
        },
        {
          "output_type": "display_data",
          "data": {
            "image/png": "[encoded data removed]",
            "text/plain": [
              "<Figure size 720x216 with 2 Axes>"
            ]
          },
          "metadata": {
            "tags": [],
            "needs_background": "light"
          }
        }
      ]
    },
    {
      "cell_type": "markdown",
      "metadata": {
        "id": "1uxr7P9pXq7a",
        "colab_type": "text"
      },
      "source": [
        "# Test plot embedding with 10 persons (using TSNE)"
      ]
    },
    {
      "cell_type": "code",
      "metadata": {
        "id": "LZZtD_4TMziU",
        "colab_type": "code",
        "outputId": "3b3525a7-bdd8-4f1a-a82f-eadeea3f00f6",
        "colab": {
          "base_uri": "https://localhost:8080/",
          "height": 592
        }
      },
      "source": [
        "list_name_id = unique_labels(metadata[:,1])\n",
        "plt.figure(figsize=(10,10))\n",
        "for i in range(0, 10, 1):\n",
        "  list_files = np.where(np.array(metadata[:,1]) == list_name_id[i])[0]\n",
        "  if len(list_files)>2:\n",
        "    images = []\n",
        "    for j in range(0,len(list_files), 1):\n",
        "      images.append(io.imread(\"/content/croped_images_224\" + \"/\" + str(metadata[list_files[j],0]) + \".jpg\"))\n",
        "    dots = []\n",
        "    for k in range(0,len(images),1):\n",
        "      dots.append(embedding_model.predict([images[k:k+1]])[0])\n",
        "    dots = np.array(dots)\n",
        "    tsne = TSNE(n_components=2, random_state=42)\n",
        "    dots= tsne.fit_transform(dots.data)\n",
        "    plt.plot(dots[:,0], dots[:,1],'o', label = metadata[list_files[j],2])\n",
        "    plt.legend(loc = \"best\")"
      ],
      "execution_count": 65,
      "outputs": [
        {
          "output_type": "display_data",
          "data": {
            "image/png": "[encoded data removed]",
            "text/plain": [
              "<Figure size 720x720 with 1 Axes>"
            ]
          },
          "metadata": {
            "tags": [],
            "needs_background": "light"
          }
        }
      ]
    }
  ]
}