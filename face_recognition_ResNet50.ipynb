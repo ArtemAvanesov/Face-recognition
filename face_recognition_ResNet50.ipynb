{
  "nbformat": 4,
  "nbformat_minor": 0,
  "metadata": {
    "colab": {
      "name": "face_recognition_resnet.ipynb",
      "provenance": [],
      "collapsed_sections": [
        "f7qr_gKbqtYm",
        "j_krkocVq1-o",
        "ONM5LhgxgDYj",
        "HRdhMzlygGv0",
        "n1OeOmi6Is_y"
      ]
    },
    "kernelspec": {
      "name": "python3",
      "display_name": "Python 3"
    }
  },
  "cells": [
    {
      "cell_type": "code",
      "metadata": {
        "id": "6r0KSVOnqbi-",
        "colab_type": "code",
        "colab": {}
      },
      "source": [
        "import numpy as np\n",
        "import tensorflow as tf\n",
        "from collections import defaultdict\n",
        "from skimage import io\n",
        "from keras import layers\n",
        "from keras.layers import Dropout, Input, concatenate\n",
        "from keras import models\n",
        "from keras.models import Model, load_model\n",
        "from keras import backend as K\n",
        "from keras.applications import ResNet50\n",
        "from keras import models\n",
        "from keras.models import Model, Sequential\n",
        "from keras.layers import Dropout\n",
        "import matplotlib.pyplot as plt\n",
        "from sklearn.utils.multiclass import unique_labels\n",
        "from sklearn.manifold import TSNE\n",
        "from sklearn.model_selection import train_test_split"
      ],
      "execution_count": 0,
      "outputs": []
    },
    {
      "cell_type": "markdown",
      "metadata": {
        "id": "f7qr_gKbqtYm",
        "colab_type": "text"
      },
      "source": [
        "# Loss function"
      ]
    },
    {
      "cell_type": "code",
      "metadata": {
        "id": "w5oxbUNBqsQG",
        "colab_type": "code",
        "colab": {}
      },
      "source": [
        "def triplet_loss(y_true, y_pred):\n",
        "  del y_true\n",
        "\n",
        "  total_lenght = y_pred.shape.as_list()[-1]   \n",
        "   \n",
        "  anchor = y_pred[:,0:int(total_lenght*1/3)]\n",
        "  positive = y_pred[:,int(total_lenght*1/3):int(total_lenght*2/3)]\n",
        "  negative = y_pred[:,int(total_lenght*2/3):int(total_lenght*3/3)]\n",
        "\n",
        "  dist = \"qeuclidean\"\n",
        "  margin = \"maxplus\"\n",
        "\n",
        "  positive_distance = K.square(anchor - positive)\n",
        "  negative_distance = K.square(anchor - negative)\n",
        "  if dist == \"sqeuclidean\":\n",
        "    positive_distance = K.mean(positive_distance, axis=-1, keepdims=True)\n",
        "    negative_distance = K.mean(negative_distance, axis=-1, keepdims=True)\n",
        "  elif dist == \"qeuclidean\":\n",
        "    positive_distance = tf.math.sqrt(K.sum(positive_distance, axis=-1, keepdims=True))\n",
        "    negative_distance = tf.math.sqrt(K.sum(negative_distance, axis=-1, keepdims=True))\n",
        "  loss = positive_distance - negative_distance\n",
        "  if margin == \"maxplus\":\n",
        "    loss = K.maximum(0.0, 1 + loss)\n",
        "  elif margin == 'softplus':\n",
        "    loss = K.log(1 + K.exp(loss))\n",
        "\n",
        "  return K.mean(loss)"
      ],
      "execution_count": 0,
      "outputs": []
    },
    {
      "cell_type": "markdown",
      "metadata": {
        "id": "j_krkocVq1-o",
        "colab_type": "text"
      },
      "source": [
        "# Accuracy function"
      ]
    },
    {
      "cell_type": "code",
      "metadata": {
        "id": "PB6Bt3e8qyU0",
        "colab_type": "code",
        "colab": {}
      },
      "source": [
        "def accuracy(y_true, y_pred):\n",
        "  del y_true\n",
        "\n",
        "  total_lenght = y_pred.shape.as_list()[-1]  \n",
        "\n",
        "  anchor = y_pred[:,0:int(total_lenght*1/3)]\n",
        "  positive = y_pred[:,int(total_lenght*1/3):int(total_lenght*2/3)]\n",
        "  negative = y_pred[:,int(total_lenght*2/3):int(total_lenght*3/3)]\n",
        "  \n",
        "  positive_distance = K.square(anchor - positive)\n",
        "  negative_distance = K.square(anchor - negative)\n",
        "    \n",
        "  return K.mean(positive_distance < negative_distance)"
      ],
      "execution_count": 0,
      "outputs": []
    },
    {
      "cell_type": "markdown",
      "metadata": {
        "id": "ONM5LhgxgDYj",
        "colab_type": "text"
      },
      "source": [
        "# Embedding model"
      ]
    },
    {
      "cell_type": "code",
      "metadata": {
        "id": "4X5aVmgtLcY-",
        "colab_type": "code",
        "colab": {}
      },
      "source": [
        "def embedding_model_function(input_shape):\n",
        "\n",
        "  embedding_model = Sequential()\n",
        "  embedding_model.add(ResNet50(include_top = False, pooling = 'avg', weights = \"imagenet\"))\n",
        "  embedding_model.add(Dropout(0.1))\n",
        "  embedding_model.add(layers.Dense(1024, activation = \"sigmoid\"))\n",
        "  embedding_model.add(Dropout(0.1))\n",
        "  embedding_model.add(layers.Dense(256, activation = \"sigmoid\"))\n",
        "\n",
        "  embedding_model.layers[0].trainable = False\n",
        "\n",
        "  return embedding_model"
      ],
      "execution_count": 0,
      "outputs": []
    },
    {
      "cell_type": "code",
      "metadata": {
        "id": "fdJ7hBGH0U91",
        "colab_type": "code",
        "outputId": "de41d5bb-7b48-4714-d01c-a35065add215",
        "colab": {
          "base_uri": "https://localhost:8080/",
          "height": 323
        }
      },
      "source": [
        "embedding_model = embedding_model_function((224, 224, 3))\n",
        "embedding_model.summary()"
      ],
      "execution_count": 23,
      "outputs": [
        {
          "output_type": "stream",
          "text": [
            "Model: \"sequential_6\"\n",
            "_________________________________________________________________\n",
            "Layer (type)                 Output Shape              Param #   \n",
            "=================================================================\n",
            "resnet50 (Model)             (None, 2048)              23587712  \n",
            "_________________________________________________________________\n",
            "dropout_11 (Dropout)         (None, 2048)              0         \n",
            "_________________________________________________________________\n",
            "dense_11 (Dense)             (None, 1024)              2098176   \n",
            "_________________________________________________________________\n",
            "dropout_12 (Dropout)         (None, 1024)              0         \n",
            "_________________________________________________________________\n",
            "dense_12 (Dense)             (None, 256)               262400    \n",
            "=================================================================\n",
            "Total params: 25,948,288\n",
            "Trainable params: 2,360,576\n",
            "Non-trainable params: 23,587,712\n",
            "_________________________________________________________________\n"
          ],
          "name": "stdout"
        }
      ]
    },
    {
      "cell_type": "markdown",
      "metadata": {
        "id": "HRdhMzlygGv0",
        "colab_type": "text"
      },
      "source": [
        "# Triplet model"
      ]
    },
    {
      "cell_type": "code",
      "metadata": {
        "id": "HZdPUa1MfQvf",
        "colab_type": "code",
        "colab": {}
      },
      "source": [
        "def triplet_model_function(embedding_model_function, input_shape):\n",
        "  anchor_input = Input(input_shape, name='anchor_input')\n",
        "  positive_input = Input(input_shape, name='positive_input')\n",
        "  negative_input = Input(input_shape, name='negative_input')\n",
        "    \n",
        "  anchor_embedding = embedding_model(anchor_input)\n",
        "  positive_embedding = embedding_model(positive_input)\n",
        "  negative_embedding = embedding_model(negative_input)\n",
        "\n",
        "  inputs = [anchor_input, positive_input, negative_input]\n",
        "  merged_vector = concatenate([anchor_embedding, positive_embedding, negative_embedding], axis=-1, name='merged_layer')\n",
        "\n",
        "  triplet_model = Model(inputs=inputs, outputs=merged_vector)\n",
        "  triplet_model.add_metric(K.mean(accuracy(merged_vector, merged_vector)), \"my_acc\")\n",
        "\n",
        "  return triplet_model"
      ],
      "execution_count": 0,
      "outputs": []
    },
    {
      "cell_type": "markdown",
      "metadata": {
        "id": "n1OeOmi6Is_y",
        "colab_type": "text"
      },
      "source": [
        "# Functions for triplets generation (faseScrub)"
      ]
    },
    {
      "cell_type": "code",
      "metadata": {
        "id": "HIT9dyjUb5qy",
        "colab_type": "code",
        "colab": {}
      },
      "source": [
        "def get_triples_indices(grouped, n):\n",
        "    num_classes = len(grouped)\n",
        "    list_labels = list(grouped.keys())\n",
        "    list_labels_copy = list_labels.copy()\n",
        "    for label in list_labels_copy:\n",
        "      if len(grouped[label]) < 2:\n",
        "        list_labels.remove(label)\n",
        "    pairs = []\n",
        "    for i in range(0,n,1):\n",
        "        pairs.append(np.random.choice(list_labels, size=2, replace = False))\n",
        "    pairs = np.array(pairs)\n",
        "    positive_labels = pairs[:,0]\n",
        "    negative_labels = pairs[:,1]\n",
        "    triples_indices = []\n",
        "    for positive_label, negative_label in zip(positive_labels, negative_labels):\n",
        "        negative = np.random.choice(grouped[negative_label])\n",
        "        positive_group = grouped[positive_label]\n",
        "        m = len(positive_group)\n",
        "        anchor_j = np.random.randint(0, m)\n",
        "        anchor = positive_group[anchor_j]\n",
        "        positive_j = (np.random.randint(1, m) + anchor_j) % m\n",
        "        positive = positive_group[positive_j]\n",
        "        triples_indices.append([anchor, positive, negative])\n",
        "    return np.asarray(triples_indices)\n",
        "\n",
        "def get_triples_data(x, grouped, n, image_path):\n",
        "    indices = get_triples_indices(grouped, n)\n",
        "    x1,x2,x3 = [],[],[]\n",
        "    for i in indices[:,0]:\n",
        "      x1.append(io.imread(image_path + \"/\" + str(x[i]) + \".jpg\"))\n",
        "    for i in indices[:,1]:\n",
        "      x2.append(io.imread(image_path + \"/\" + str(x[i]) + \".jpg\"))\n",
        "    for i in indices[:,2]:\n",
        "      x3.append(io.imread(image_path + \"/\" + str(x[i]) + \".jpg\"))\n",
        "    x1 = np.array(x1)\n",
        "    x2 = np.array(x2)\n",
        "    x3 = np.array(x3)\n",
        "    return x1, x2, x3\n",
        "    \n",
        "def triplet_generator(x, y, batch_size, image_path):\n",
        "    grouped = defaultdict(list)\n",
        "    for i, label in enumerate(y):\n",
        "        grouped[label].append(i)\n",
        "       \n",
        "    while True:\n",
        "        x_anchor, x_positive, x_negative = get_triples_data(x, grouped, batch_size, image_path)\n",
        "        yield ({'anchor_input': x_anchor,\n",
        "               'positive_input': x_positive,\n",
        "               'negative_input': x_negative},\n",
        "               np.zeros(len(x_anchor)))"
      ],
      "execution_count": 0,
      "outputs": []
    },
    {
      "cell_type": "markdown",
      "metadata": {
        "id": "27vrx2rruHwE",
        "colab_type": "text"
      },
      "source": [
        "# Reading metadata"
      ]
    },
    {
      "cell_type": "code",
      "metadata": {
        "id": "5hT17Al5_8wJ",
        "colab_type": "code",
        "colab": {}
      },
      "source": [
        "!cp -a \"/content/drive/My Drive/Colab/Roonyx/Face recognition/faceScrub/croped_images_224\" \"/content/croped_images_224\"\n",
        "!cp -a \"/content/drive/My Drive/Colab/Roonyx/Face recognition/faceScrub/metadata/metadata_small.npz\" \"/content/metadata_small.npz\""
      ],
      "execution_count": 0,
      "outputs": []
    },
    {
      "cell_type": "code",
      "metadata": {
        "id": "m4jDryv0sFu0",
        "colab_type": "code",
        "colab": {}
      },
      "source": [
        "readed = np.load('/content/metadata_small.npz')\n",
        "metadata = readed[\"metadata_small\"]\n",
        "x = metadata[:,0]\n",
        "x = np.array(x, dtype='int64')\n",
        "y = metadata[:,1]\n",
        "y = np.array(y, dtype='int64')\n",
        "X_train, X_test, y_train, y_test = train_test_split(x, y, random_state=0)"
      ],
      "execution_count": 0,
      "outputs": []
    },
    {
      "cell_type": "markdown",
      "metadata": {
        "id": "vk9MEbozXQYd",
        "colab_type": "text"
      },
      "source": [
        "# Model training"
      ]
    },
    {
      "cell_type": "code",
      "metadata": {
        "id": "fxH5fQCYu3Bj",
        "colab_type": "code",
        "outputId": "bacd71f2-0609-40fd-de9b-d5ce9a075748",
        "colab": {
          "base_uri": "https://localhost:8080/",
          "height": 1000
        }
      },
      "source": [
        "embedding_model = embedding_model_function(input_shape = (224, 224, 3))\n",
        "triplet_model = triplet_model_function(embedding_model, input_shape = (224, 224, 3))\n",
        "triplet_model.compile(loss=triplet_loss, optimizer='adam')\n",
        "\n",
        "batch_size = 10\n",
        "image_path = \"/content/croped_images_224\"\n",
        "\n",
        "history = triplet_model.fit_generator(triplet_generator(X_train, y_train, batch_size, image_path),\n",
        "                                      steps_per_epoch=10,\n",
        "                                      epochs=30,\n",
        "                                      validation_data=triplet_generator(X_test, y_test, batch_size, image_path),\n",
        "                                      validation_steps = len(y_test)//10,\n",
        "                                      verbose=1)"
      ],
      "execution_count": 28,
      "outputs": [
        {
          "output_type": "stream",
          "text": [
            "Epoch 1/30\n",
            "10/10 [==============================] - 110s 11s/step - loss: 0.9505 - my_acc: 0.5093 - val_loss: 0.8396 - val_my_acc: 0.6050\n",
            "Epoch 2/30\n",
            "10/10 [==============================] - 101s 10s/step - loss: 0.7104 - my_acc: 0.5576 - val_loss: 0.8723 - val_my_acc: 0.6619\n",
            "Epoch 3/30\n",
            "10/10 [==============================] - 101s 10s/step - loss: 0.4594 - my_acc: 0.6162 - val_loss: 0.4640 - val_my_acc: 0.7106\n",
            "Epoch 4/30\n",
            "10/10 [==============================] - 101s 10s/step - loss: 0.3103 - my_acc: 0.6557 - val_loss: 0.3903 - val_my_acc: 0.7019\n",
            "Epoch 5/30\n",
            "10/10 [==============================] - 101s 10s/step - loss: 0.2903 - my_acc: 0.6706 - val_loss: 0.6263 - val_my_acc: 0.7124\n",
            "Epoch 6/30\n",
            "10/10 [==============================] - 102s 10s/step - loss: 0.2306 - my_acc: 0.6743 - val_loss: 0.2472 - val_my_acc: 0.6959\n",
            "Epoch 7/30\n",
            "10/10 [==============================] - 101s 10s/step - loss: 0.2047 - my_acc: 0.6878 - val_loss: 0.2711 - val_my_acc: 0.7023\n",
            "Epoch 8/30\n",
            "10/10 [==============================] - 101s 10s/step - loss: 0.2362 - my_acc: 0.6855 - val_loss: 0.3587 - val_my_acc: 0.7127\n",
            "Epoch 9/30\n",
            "10/10 [==============================] - 101s 10s/step - loss: 0.1971 - my_acc: 0.6919 - val_loss: 0.3219 - val_my_acc: 0.6977\n",
            "Epoch 10/30\n",
            "10/10 [==============================] - 101s 10s/step - loss: 0.2493 - my_acc: 0.6759 - val_loss: 0.1152 - val_my_acc: 0.7333\n",
            "Epoch 11/30\n",
            "10/10 [==============================] - 101s 10s/step - loss: 0.2110 - my_acc: 0.6926 - val_loss: 0.0942 - val_my_acc: 0.7099\n",
            "Epoch 12/30\n",
            "10/10 [==============================] - 102s 10s/step - loss: 0.1852 - my_acc: 0.7028 - val_loss: 0.1468 - val_my_acc: 0.7264\n",
            "Epoch 13/30\n",
            "10/10 [==============================] - 102s 10s/step - loss: 0.1272 - my_acc: 0.7188 - val_loss: 0.4066 - val_my_acc: 0.7051\n",
            "Epoch 14/30\n",
            "10/10 [==============================] - 102s 10s/step - loss: 0.2007 - my_acc: 0.7086 - val_loss: 0.1924 - val_my_acc: 0.7325\n",
            "Epoch 15/30\n",
            "10/10 [==============================] - 102s 10s/step - loss: 0.0586 - my_acc: 0.7319 - val_loss: 0.5158 - val_my_acc: 0.7199\n",
            "Epoch 16/30\n",
            "10/10 [==============================] - 102s 10s/step - loss: 0.1950 - my_acc: 0.7012 - val_loss: 0.5002 - val_my_acc: 0.6861\n",
            "Epoch 17/30\n",
            "10/10 [==============================] - 103s 10s/step - loss: 0.1941 - my_acc: 0.6902 - val_loss: 0.3918 - val_my_acc: 0.6766\n",
            "Epoch 18/30\n",
            "10/10 [==============================] - 102s 10s/step - loss: 0.1280 - my_acc: 0.7214 - val_loss: 0.4145 - val_my_acc: 0.6893\n",
            "Epoch 19/30\n",
            "10/10 [==============================] - 103s 10s/step - loss: 0.1776 - my_acc: 0.7055 - val_loss: 0.3422 - val_my_acc: 0.6974\n",
            "Epoch 20/30\n",
            "10/10 [==============================] - 103s 10s/step - loss: 0.1153 - my_acc: 0.7143 - val_loss: 0.3360 - val_my_acc: 0.7197\n",
            "Epoch 21/30\n",
            "10/10 [==============================] - 102s 10s/step - loss: 0.1680 - my_acc: 0.6988 - val_loss: 0.4504 - val_my_acc: 0.6913\n",
            "Epoch 22/30\n",
            "10/10 [==============================] - 103s 10s/step - loss: 0.0903 - my_acc: 0.7108 - val_loss: 0.3936 - val_my_acc: 0.7032\n",
            "Epoch 23/30\n",
            "10/10 [==============================] - 101s 10s/step - loss: 0.0778 - my_acc: 0.7351 - val_loss: 0.4360 - val_my_acc: 0.6833\n",
            "Epoch 24/30\n",
            "10/10 [==============================] - 101s 10s/step - loss: 0.1391 - my_acc: 0.7067 - val_loss: 0.2669 - val_my_acc: 0.7265\n",
            "Epoch 25/30\n",
            "10/10 [==============================] - 101s 10s/step - loss: 0.0958 - my_acc: 0.7336 - val_loss: 0.1593 - val_my_acc: 0.7294\n",
            "Epoch 26/30\n",
            "10/10 [==============================] - 102s 10s/step - loss: 0.1088 - my_acc: 0.7075 - val_loss: 0.1239 - val_my_acc: 0.6986\n",
            "Epoch 27/30\n",
            "10/10 [==============================] - 101s 10s/step - loss: 0.0659 - my_acc: 0.7284 - val_loss: 0.5174 - val_my_acc: 0.7173\n",
            "Epoch 28/30\n",
            "10/10 [==============================] - 101s 10s/step - loss: 0.0936 - my_acc: 0.7339 - val_loss: 0.2147 - val_my_acc: 0.7111\n",
            "Epoch 29/30\n",
            "10/10 [==============================] - 100s 10s/step - loss: 0.1266 - my_acc: 0.7139 - val_loss: 0.1339 - val_my_acc: 0.7259\n",
            "Epoch 30/30\n",
            "10/10 [==============================] - 100s 10s/step - loss: 0.0946 - my_acc: 0.7139 - val_loss: 0.3292 - val_my_acc: 0.7104\n"
          ],
          "name": "stdout"
        }
      ]
    },
    {
      "cell_type": "markdown",
      "metadata": {
        "id": "psvxi97oXYtW",
        "colab_type": "text"
      },
      "source": [
        "# Model loss and accuracy"
      ]
    },
    {
      "cell_type": "code",
      "metadata": {
        "id": "FWKlXUMQQuj-",
        "colab_type": "code",
        "outputId": "41d8908c-5d92-4f20-db85-4b5eca81bd62",
        "colab": {
          "base_uri": "https://localhost:8080/",
          "height": 258
        }
      },
      "source": [
        "plt.figure(figsize=(10,3))\n",
        "\n",
        "plt.subplot(1, 2, 1)\n",
        "plt.plot(history.history['loss'])\n",
        "plt.plot(history.history['val_loss'])\n",
        "plt.title('Model loss')\n",
        "plt.ylabel('Loss')\n",
        "plt.xlabel('Epoch')\n",
        "plt.legend(['Train', 'Test'], loc='upper left')\n",
        "\n",
        "plt.subplot(1, 2, 2)\n",
        "plt.plot(history.history['my_acc'])\n",
        "plt.plot(history.history['val_my_acc'])\n",
        "plt.title('Model accuracy')\n",
        "plt.ylabel('Accuracy')\n",
        "plt.xlabel('Epoch')\n",
        "plt.legend(['Train', 'Test'], loc='upper left')"
      ],
      "execution_count": 31,
      "outputs": [
        {
          "output_type": "execute_result",
          "data": {
            "text/plain": [
              "<matplotlib.legend.Legend at 0x7fd0a6e38f60>"
            ]
          },
          "metadata": {
            "tags": []
          },
          "execution_count": 31
        },
        {
          "output_type": "display_data",
          "data": {
            "image/png": "[encoded data removed]",
            "text/plain": [
              "<Figure size 720x216 with 2 Axes>"
            ]
          },
          "metadata": {
            "tags": [],
            "needs_background": "light"
          }
        }
      ]
    },
    {
      "cell_type": "code",
      "metadata": {
        "id": "tenEw7z6fqMl",
        "colab_type": "code",
        "colab": {}
      },
      "source": [
        "# triplet_model.save(\"/content/drive/My Drive/Colab/Roonyx/Face recognition/faceScrub/metadata\" + '/triplet_resnet50(70%).h5')\n",
        "# triplet_model = load_model(\"/content/drive/My Drive/Colab/Roonyx/Face recognition/faceScrub/metadata\" + '/triplet_resnet50(70%).h5', custom_objects = {\"triplet_loss\": triplet_loss})"
      ],
      "execution_count": 0,
      "outputs": []
    }
  ]
}